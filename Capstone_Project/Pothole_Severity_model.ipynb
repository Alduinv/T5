{
  "nbformat": 4,
  "nbformat_minor": 0,
  "metadata": {
    "colab": {
      "provenance": [],
      "gpuType": "T4"
    },
    "kernelspec": {
      "name": "python3",
      "display_name": "Python 3"
    },
    "language_info": {
      "name": "python"
    },
    "accelerator": "GPU"
  },
  "cells": [
    {
      "cell_type": "markdown",
      "source": [
        "#Install libraries"
      ],
      "metadata": {
        "id": "mVw_lKqyMMs4"
      }
    },
    {
      "cell_type": "code",
      "execution_count": null,
      "metadata": {
        "id": "4pDqPEWkpvzq",
        "collapsed": true
      },
      "outputs": [],
      "source": [
        "!pip install ultralytics==8.0.196\n",
        "!pip install roboflow\n",
        "!pip install albumentations==1.4"
      ]
    },
    {
      "cell_type": "code",
      "source": [
        "from ultralytics import YOLO\n",
        "from roboflow import Roboflow\n"
      ],
      "metadata": {
        "id": "q1HDXws_qHai"
      },
      "execution_count": null,
      "outputs": []
    },
    {
      "cell_type": "markdown",
      "source": [
        "#Downlaod Dataset"
      ],
      "metadata": {
        "id": "EewF6CDZMV3q"
      }
    },
    {
      "cell_type": "code",
      "source": [
        "rf = Roboflow(api_key=\"RoboFlow api key\")\n",
        "project = rf.workspace(\"project-spts0\").project(\"potholeseverity-lolds\")\n",
        "version = project.version(1)\n",
        "dataset = version.download(\"yolov8\")\n"
      ],
      "metadata": {
        "id": "5-R1mqBYsHxX"
      },
      "execution_count": null,
      "outputs": []
    },
    {
      "cell_type": "markdown",
      "source": [
        "#Initialize the model"
      ],
      "metadata": {
        "id": "VMlYm_jrMW8w"
      }
    },
    {
      "cell_type": "code",
      "source": [
        "model = YOLO('yolov8n-seg.pt')"
      ],
      "metadata": {
        "id": "LmV0-9gqqHva",
        "colab": {
          "base_uri": "https://localhost:8080/"
        },
        "outputId": "dfe21800-c252-434e-89e2-9b350911a380"
      },
      "execution_count": null,
      "outputs": [
        {
          "output_type": "stream",
          "name": "stderr",
          "text": [
            "You are using `torch.load` with `weights_only=False` (the current default value), which uses the default pickle module implicitly. It is possible to construct malicious pickle data which will execute arbitrary code during unpickling (See https://github.com/pytorch/pytorch/blob/main/SECURITY.md#untrusted-models for more details). In a future release, the default value for `weights_only` will be flipped to `True`. This limits the functions that could be executed during unpickling. Arbitrary objects will no longer be allowed to be loaded via this mode unless they are explicitly allowlisted by the user via `torch.serialization.add_safe_globals`. We recommend you start setting `weights_only=True` for any use case where you don't have full control of the loaded file. Please open an issue on GitHub for any issues related to this experimental feature.\n"
          ]
        }
      ]
    },
    {
      "cell_type": "markdown",
      "source": [
        "# Train The Model"
      ],
      "metadata": {
        "id": "3THsnsDltuli"
      }
    },
    {
      "cell_type": "code",
      "source": [
        "model.train(data='/content/PotholeSeverity-1/data.yaml', epochs=50)"
      ],
      "metadata": {
        "id": "hVxYxhosEw8_"
      },
      "execution_count": null,
      "outputs": []
    },
    {
      "cell_type": "markdown",
      "source": [
        "#load The best Weights"
      ],
      "metadata": {
        "id": "z15H34VBMdOR"
      }
    },
    {
      "cell_type": "code",
      "source": [
        "model = YOLO('/content/bestSeg.pt')"
      ],
      "metadata": {
        "id": "rB17-9WuMcAv"
      },
      "execution_count": null,
      "outputs": []
    },
    {
      "cell_type": "markdown",
      "source": [
        "#Validation"
      ],
      "metadata": {
        "id": "eI42TBNQNHnY"
      }
    },
    {
      "cell_type": "code",
      "source": [
        "results = model.val(data='/content/PotholeSeverity-1/data.yaml')"
      ],
      "metadata": {
        "id": "M2Y9sbsWJbt4",
        "colab": {
          "base_uri": "https://localhost:8080/"
        },
        "outputId": "422b9520-36bb-465e-f3df-25f4206574bd"
      },
      "execution_count": null,
      "outputs": [
        {
          "output_type": "stream",
          "name": "stderr",
          "text": [
            "Ultralytics YOLOv8.0.196 🚀 Python-3.10.12 torch-2.4.1+cu121 CUDA:0 (Tesla T4, 15102MiB)\n",
            "YOLOv8s-seg summary (fused): 195 layers, 11780374 parameters, 0 gradients, 42.4 GFLOPs\n",
            "Downloading https://ultralytics.com/assets/Arial.ttf to '/root/.config/Ultralytics/Arial.ttf'...\n",
            "100%|██████████| 755k/755k [00:00<00:00, 21.1MB/s]\n",
            "\u001b[34m\u001b[1mval: \u001b[0mScanning /content/PotholeSeverity-1/valid/labels... 68 images, 0 backgrounds, 0 corrupt: 100%|██████████| 68/68 [00:00<00:00, 936.83it/s]\n",
            "\u001b[34m\u001b[1mval: \u001b[0mNew cache created: /content/PotholeSeverity-1/valid/labels.cache\n",
            "                 Class     Images  Instances      Box(P          R      mAP50  mAP50-95)     Mask(P          R      mAP50  mAP50-95): 100%|██████████| 5/5 [00:06<00:00,  1.39s/it]\n",
            "                   all         68        256      0.985       0.99      0.993      0.928      0.985      0.979      0.992      0.857\n",
            "            BigPothole         68         88      0.971      0.989      0.991       0.95      0.976      0.989      0.991      0.916\n",
            "          SmallPothole         68        168          1      0.992      0.995      0.907      0.994      0.969      0.993      0.798\n",
            "Speed: 5.9ms preprocess, 20.7ms inference, 0.2ms loss, 21.3ms postprocess per image\n",
            "Results saved to \u001b[1mruns/segment/val\u001b[0m\n"
          ]
        }
      ]
    },
    {
      "cell_type": "markdown",
      "source": [
        "#Test on images/videos"
      ],
      "metadata": {
        "id": "QAMY3LoaNLSi"
      }
    },
    {
      "cell_type": "code",
      "source": [
        "model.predict(source='/content/MicrosoftTeams-image_32.jpg', save=True, imgsz = 160)"
      ],
      "metadata": {
        "id": "K74fcN3zqv_z"
      },
      "execution_count": null,
      "outputs": []
    },
    {
      "cell_type": "code",
      "source": [
        "model.predict(source='/content/test_for_deploy.mp4', save=True)"
      ],
      "metadata": {
        "id": "fOEkD93WKAcV"
      },
      "execution_count": null,
      "outputs": []
    }
  ]
}