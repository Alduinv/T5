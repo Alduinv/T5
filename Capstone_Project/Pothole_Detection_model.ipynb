{
  "nbformat": 4,
  "nbformat_minor": 0,
  "metadata": {
    "colab": {
      "provenance": [],
      "gpuType": "T4"
    },
    "kernelspec": {
      "name": "python3",
      "display_name": "Python 3"
    },
    "language_info": {
      "name": "python"
    },
    "accelerator": "GPU"
  },
  "cells": [
    {
      "cell_type": "markdown",
      "source": [
        "#Install libraries\n"
      ],
      "metadata": {
        "id": "jffYgnK6LTbD"
      }
    },
    {
      "cell_type": "code",
      "execution_count": null,
      "metadata": {
        "id": "4pDqPEWkpvzq",
        "collapsed": true
      },
      "outputs": [],
      "source": [
        "!pip install ultralytics==8.0.196\n",
        "!pip install roboflow"
      ]
    },
    {
      "cell_type": "code",
      "source": [
        "from ultralytics import YOLO\n",
        "from roboflow import Roboflow\n",
        "from google.colab.patches import cv2_imshow"
      ],
      "metadata": {
        "id": "q1HDXws_qHai"
      },
      "execution_count": null,
      "outputs": []
    },
    {
      "cell_type": "markdown",
      "source": [
        "#Downlaod Dataset"
      ],
      "metadata": {
        "id": "cuNHrhnBLqdO"
      }
    },
    {
      "cell_type": "code",
      "source": [
        "rf = Roboflow(api_key=\"RoboFlow api key\")\n",
        "project = rf.workspace(\"pothole-ipd\").project(\"ipd-pothole-detection-2\")\n",
        "version = project.version(4)\n",
        "dataset = version.download(\"yolov8\")"
      ],
      "metadata": {
        "id": "5-R1mqBYsHxX"
      },
      "execution_count": null,
      "outputs": []
    },
    {
      "cell_type": "markdown",
      "source": [
        "#Initialize the model"
      ],
      "metadata": {
        "id": "9RBIzYPzLelX"
      }
    },
    {
      "cell_type": "code",
      "source": [
        "model = YOLO('yolov8n-seg.pt')"
      ],
      "metadata": {
        "id": "LmV0-9gqqHva"
      },
      "execution_count": null,
      "outputs": []
    },
    {
      "cell_type": "markdown",
      "source": [
        "# Train The Model"
      ],
      "metadata": {
        "id": "3THsnsDltuli"
      }
    },
    {
      "cell_type": "code",
      "source": [
        "model.train(data='/content/IPD-Pothole-Detection-2-4/data.yaml', epochs=50, batch=100)"
      ],
      "metadata": {
        "id": "hVxYxhosEw8_"
      },
      "execution_count": null,
      "outputs": []
    },
    {
      "cell_type": "markdown",
      "source": [
        "#load The best Weights"
      ],
      "metadata": {
        "id": "espVkWL5L4Mt"
      }
    },
    {
      "cell_type": "code",
      "source": [
        "model = YOLO('/content/bestSeg_Severity.pt')"
      ],
      "metadata": {
        "id": "-5i3OqP-LmeB"
      },
      "execution_count": null,
      "outputs": []
    },
    {
      "cell_type": "markdown",
      "source": [
        "#Validation"
      ],
      "metadata": {
        "id": "PCMnAzJbL92i"
      }
    },
    {
      "cell_type": "code",
      "source": [
        "results = model.val(data='/content/IPD-Pothole-Detection-2-4/data.yaml')\n"
      ],
      "metadata": {
        "colab": {
          "base_uri": "https://localhost:8080/"
        },
        "id": "M2Y9sbsWJbt4",
        "outputId": "da0cce56-30c5-488c-d211-a9243c878c71"
      },
      "execution_count": null,
      "outputs": [
        {
          "output_type": "stream",
          "name": "stderr",
          "text": [
            "Ultralytics YOLOv8.0.196 🚀 Python-3.10.12 torch-2.4.1+cu121 CUDA:0 (Tesla T4, 15102MiB)\n",
            "\u001b[34m\u001b[1mval: \u001b[0mScanning /content/IPD-Pothole-Detection-2-4/valid/labels.cache... 677 images, 0 backgrounds, 0 corrupt: 100%|██████████| 677/677 [00:00<?, ?it/s]\n",
            "                 Class     Images  Instances      Box(P          R      mAP50  mAP50-95)     Mask(P          R      mAP50  mAP50-95): 100%|██████████| 43/43 [00:15<00:00,  2.71it/s]\n",
            "                   all        677       1831      0.418      0.491       0.56       0.46      0.417      0.489      0.556      0.412\n",
            "               Pothole        677       1813      0.837      0.981      0.985      0.869      0.834      0.978      0.977      0.785\n",
            "                object        677         18          0          0      0.136     0.0503          0          0      0.136     0.0393\n",
            "Speed: 1.8ms preprocess, 5.1ms inference, 0.0ms loss, 2.3ms postprocess per image\n",
            "Results saved to \u001b[1mruns/segment/val9\u001b[0m\n"
          ]
        }
      ]
    },
    {
      "cell_type": "markdown",
      "source": [
        "#Test on images/videos\n"
      ],
      "metadata": {
        "id": "DdM3wy6fMBv0"
      }
    },
    {
      "cell_type": "code",
      "source": [
        "model.predict(source='/content/test.mp4', save=True)"
      ],
      "metadata": {
        "id": "K74fcN3zqv_z"
      },
      "execution_count": null,
      "outputs": []
    }
  ]
}